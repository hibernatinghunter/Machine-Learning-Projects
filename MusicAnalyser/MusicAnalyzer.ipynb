{
 "cells": [
  {
   "cell_type": "code",
   "execution_count": 81,
   "id": "85a9652f",
   "metadata": {},
   "outputs": [
    {
     "data": {
      "text/plain": [
       "0.75"
      ]
     },
     "execution_count": 81,
     "metadata": {},
     "output_type": "execute_result"
    }
   ],
   "source": [
    "import pandas as pd\n",
    "from sklearn.tree import DecisionTreeClassifier\n",
    "from sklearn.model_selection import train_test_split\n",
    "from sklearn.metrics import accuracy_score\n",
    "\n",
    "#load the music Dataframe from CSV data\n",
    "music_df=pd.read_csv('Data/musicData.csv')\n",
    "\n",
    "#split data_frame into X and Y\n",
    "# where X has all col except Genre\n",
    "# where Y has only Genre\n",
    "\n",
    "X = music_df.drop(columns=['Genre'])\n",
    "Y= music_df['Genre']\n",
    "\n",
    "# split input df into train and test arrays, with test_size 20%\n",
    "X_train, X_test, Y_train, Y_test = train_test_split(X,Y, test_size=0.2)\n",
    "\n",
    "#model fit is used to train model\n",
    "model=DecisionTreeClassifier()\n",
    "model.fit(X_train,Y_train)\n",
    "\n",
    "#to predict, using test array :X_test\n",
    "predictions=model.predict(X_test)\n",
    "\n",
    "#test accuracy score, Validate :Y_test against predicted values :predictions\n",
    "score=accuracy_score(Y_test, predictions)\n",
    "\n",
    "#prints accuracy score\n",
    "score"
   ]
  },
  {
   "cell_type": "code",
   "execution_count": 82,
   "id": "becd21c1",
   "metadata": {},
   "outputs": [
    {
     "data": {
      "text/plain": [
       "array(['HipHop', 'Dance'], dtype=object)"
      ]
     },
     "execution_count": 82,
     "metadata": {},
     "output_type": "execute_result"
    }
   ],
   "source": [
    "#prints predictions using array\n",
    "predictions=model.predict([[22,1],[22,0]])\n",
    "predictions"
   ]
  }
 ],
 "metadata": {
  "kernelspec": {
   "display_name": "Python 3",
   "language": "python",
   "name": "python3"
  },
  "language_info": {
   "codemirror_mode": {
    "name": "ipython",
    "version": 3
   },
   "file_extension": ".py",
   "mimetype": "text/x-python",
   "name": "python",
   "nbconvert_exporter": "python",
   "pygments_lexer": "ipython3",
   "version": "3.8.8"
  }
 },
 "nbformat": 4,
 "nbformat_minor": 5
}
